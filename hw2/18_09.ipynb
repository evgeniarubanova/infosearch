{
 "cells": [
  {
   "cell_type": "code",
   "execution_count": 100,
   "metadata": {},
   "outputs": [],
   "source": [
    "#Беру только по 2500 предложений, потому что, если брать больше, происходит Memory Error. Видимо, мой комп совсем плох."
   ]
  },
  {
   "cell_type": "code",
   "execution_count": 101,
   "metadata": {},
   "outputs": [],
   "source": [
    "import math\n",
    "from math import log"
   ]
  },
  {
   "cell_type": "code",
   "execution_count": 102,
   "metadata": {},
   "outputs": [],
   "source": [
    "import csv\n",
    "with open('quora_question_pairs_rus.csv', 'r', encoding = 'utf-8') as r:\n",
    "    reader = csv.reader(r)\n",
    "    file = list(reader)"
   ]
  },
  {
   "cell_type": "code",
   "execution_count": 103,
   "metadata": {},
   "outputs": [],
   "source": [
    "import pymorphy2 as pm2\n",
    "pmm = pm2.MorphAnalyzer()\n",
    "import re"
   ]
  },
  {
   "cell_type": "code",
   "execution_count": 104,
   "metadata": {},
   "outputs": [
    {
     "name": "stderr",
     "output_type": "stream",
     "text": [
      "[nltk_data] Downloading package stopwords to\n",
      "[nltk_data]     C:\\Users\\ASUS\\AppData\\Roaming\\nltk_data...\n",
      "[nltk_data]   Package stopwords is already up-to-date!\n"
     ]
    }
   ],
   "source": [
    "import nltk\n",
    "nltk.download(\"stopwords\")\n",
    "from nltk.corpus import stopwords\n",
    "russian_stopwords = stopwords.words(\"russian\")"
   ]
  },
  {
   "cell_type": "code",
   "execution_count": 105,
   "metadata": {},
   "outputs": [],
   "source": [
    "docs = []\n",
    "for indx, row in enumerate(file):\n",
    "    if indx > 0:\n",
    "        docs.append([row[2], row[3]])"
   ]
  },
  {
   "cell_type": "code",
   "execution_count": 7,
   "metadata": {},
   "outputs": [],
   "source": [
    "#corpus = []\n",
    "#for indx, row in enumerate(file):\n",
    "#    if indx > 0:\n",
    "#        doc = row[2]\n",
    "#        doc = re.sub(r'[^\\w\\s]', '', doc)\n",
    "#        doc = re.sub(r'\\d', '', doc)\n",
    "#        doc = re.sub(r'[A-Za-z]', '', doc)\n",
    "#        doc_arr = [pmm.normal_forms(x)[0] for x in doc.split() if x not in russian_stopwords]\n",
    "#        doc = ' '.join(doc_arr)\n",
    "#        corpus.append(doc)"
   ]
  },
  {
   "cell_type": "code",
   "execution_count": 8,
   "metadata": {},
   "outputs": [],
   "source": [
    "#queries = []\n",
    "#for indx, row in enumerate(file):\n",
    "#    if indx > 0:\n",
    "#        query = row[1]\n",
    "#        query = re.sub(r'[^\\w\\s]', '', query)\n",
    "#        query = re.sub(r'\\d', '', query)\n",
    "#        query = re.sub(r'[A-Za-z]', '', query)\n",
    "#        query_arr = [pmm.normal_forms(x)[0] for x in query.split() if x not in russian_stopwords]\n",
    "#        query = ' '.join(query_arr)\n",
    "#        queries.append(query)"
   ]
  },
  {
   "cell_type": "code",
   "execution_count": 9,
   "metadata": {},
   "outputs": [],
   "source": [
    "#with open('corpus.txt', 'r', encoding = 'utf-8') as r:\n",
    "#    corpus = r.readlines()"
   ]
  },
  {
   "cell_type": "code",
   "execution_count": 10,
   "metadata": {},
   "outputs": [],
   "source": [
    "#with open('queries.txt', 'r', encoding = 'utf-8') as r:\n",
    "#    queries = r.readlines()"
   ]
  },
  {
   "cell_type": "code",
   "execution_count": 11,
   "metadata": {},
   "outputs": [],
   "source": [
    "#corp = corpus[:2500]"
   ]
  },
  {
   "cell_type": "code",
   "execution_count": 12,
   "metadata": {},
   "outputs": [],
   "source": [
    "#quer = queries[:2500]"
   ]
  },
  {
   "cell_type": "code",
   "execution_count": 13,
   "metadata": {
    "scrolled": true
   },
   "outputs": [],
   "source": [
    "#with open('corp.txt', 'w', encoding = 'utf-8') as w:\n",
    "#    for i in corp:\n",
    "#        w.write(i)"
   ]
  },
  {
   "cell_type": "code",
   "execution_count": 14,
   "metadata": {},
   "outputs": [],
   "source": [
    "#with open('quer.txt', 'w', encoding = 'utf-8') as w:\n",
    "#    for i in quer:\n",
    "#        w.write(i)"
   ]
  },
  {
   "cell_type": "code",
   "execution_count": 106,
   "metadata": {},
   "outputs": [],
   "source": [
    "with open('corp.txt', 'r', encoding = 'utf-8') as r:\n",
    "    corp = r.readlines()"
   ]
  },
  {
   "cell_type": "code",
   "execution_count": 107,
   "metadata": {},
   "outputs": [],
   "source": [
    "with open('quer.txt', 'r', encoding = 'utf-8') as r:\n",
    "    quer = r.readlines()"
   ]
  },
  {
   "cell_type": "markdown",
   "metadata": {},
   "source": [
    "## Подготовительная работа. Подсчет переменных для формулы"
   ]
  },
  {
   "cell_type": "code",
   "execution_count": 108,
   "metadata": {},
   "outputs": [
    {
     "data": {
      "text/plain": [
       "2500"
      ]
     },
     "execution_count": 108,
     "metadata": {},
     "output_type": "execute_result"
    }
   ],
   "source": [
    "#кол-во документов в коллекции\n",
    "N = len(corp)\n",
    "N"
   ]
  },
  {
   "cell_type": "code",
   "execution_count": 109,
   "metadata": {},
   "outputs": [
    {
     "data": {
      "text/plain": [
       "[7, 5, 5, 4, 8]"
      ]
     },
     "execution_count": 109,
     "metadata": {},
     "output_type": "execute_result"
    }
   ],
   "source": [
    "#длины документов\n",
    "lens_d = []\n",
    "for doc in corp:\n",
    "    doc = doc.split()\n",
    "    lens_d.append(len(doc))\n",
    "lens_d[:5]"
   ]
  },
  {
   "cell_type": "code",
   "execution_count": 110,
   "metadata": {},
   "outputs": [
    {
     "data": {
      "text/plain": [
       "5.9084"
      ]
     },
     "execution_count": 110,
     "metadata": {},
     "output_type": "execute_result"
    }
   ],
   "source": [
    "#средняя длина документа\n",
    "avgdl = sum(lens_d)/len(lens_d)\n",
    "avgdl"
   ]
  },
  {
   "cell_type": "code",
   "execution_count": 111,
   "metadata": {},
   "outputs": [],
   "source": [
    "#константы\n",
    "k = 2\n",
    "b = 0.75"
   ]
  },
  {
   "cell_type": "code",
   "execution_count": 112,
   "metadata": {},
   "outputs": [],
   "source": [
    "from sklearn.feature_extraction.text import CountVectorizer\n",
    "vectorizer = CountVectorizer()\n",
    "import numpy as np"
   ]
  },
  {
   "cell_type": "code",
   "execution_count": 113,
   "metadata": {},
   "outputs": [],
   "source": [
    "X = vectorizer.fit_transform(corp)\n",
    "#уникальные слова в корпусе\n",
    "words = vectorizer.get_feature_names()"
   ]
  },
  {
   "cell_type": "code",
   "execution_count": 114,
   "metadata": {},
   "outputs": [],
   "source": [
    "matrix = X.toarray()\n",
    "#обратная матрица\n",
    "rev_matrix = np.transpose(matrix)"
   ]
  },
  {
   "cell_type": "code",
   "execution_count": 115,
   "metadata": {},
   "outputs": [],
   "source": [
    "#кол-во документов, где есть слово\n",
    "number_of_docs = []\n",
    "for word in rev_matrix:\n",
    "    count = 0\n",
    "    for i in word:\n",
    "        if i != 0:\n",
    "            count += 1\n",
    "    number_of_docs.append(count)"
   ]
  },
  {
   "cell_type": "code",
   "execution_count": 116,
   "metadata": {},
   "outputs": [],
   "source": [
    "TFs = []\n",
    "for word in words:\n",
    "    arr = []\n",
    "    for sent in corp:\n",
    "        TF = 0\n",
    "        sent = sent.split()\n",
    "        if word in sent:\n",
    "            num = 0\n",
    "            for s in sent:\n",
    "                if word == s:\n",
    "                    num += 1\n",
    "            TF = num / len(sent)\n",
    "        arr.append(TF)\n",
    "    TFs.append(arr)"
   ]
  },
  {
   "cell_type": "code",
   "execution_count": 117,
   "metadata": {},
   "outputs": [
    {
     "data": {
      "text/plain": [
       "4304"
      ]
     },
     "execution_count": 117,
     "metadata": {},
     "output_type": "execute_result"
    }
   ],
   "source": [
    "len(TFs)"
   ]
  },
  {
   "cell_type": "code",
   "execution_count": 118,
   "metadata": {},
   "outputs": [],
   "source": [
    "#Создание матрицы с BM25\n",
    "bm_mtrx = []\n",
    "for index, word in enumerate(words):\n",
    "    word_bms = []\n",
    "    for indx, doc in enumerate(corp):\n",
    "        l = float(lens_d[indx])\n",
    "        n = float(number_of_docs[index])\n",
    "        TF = float(TFs[index][indx])\n",
    "        bm = math.log((N - n + 0.5) / (n + 0.5)) * (TF * (k + 1)) / (TF + (k * (1 - b + b * l / avgdl)))\n",
    "        word_bms.append(bm)\n",
    "    bm_mtrx.append(word_bms)"
   ]
  },
  {
   "cell_type": "code",
   "execution_count": 119,
   "metadata": {},
   "outputs": [
    {
     "data": {
      "text/plain": [
       "4304"
      ]
     },
     "execution_count": 119,
     "metadata": {},
     "output_type": "execute_result"
    }
   ],
   "source": [
    "len(bm_mtrx)"
   ]
  },
  {
   "cell_type": "markdown",
   "metadata": {},
   "source": [
    "# Задача 1"
   ]
  },
  {
   "cell_type": "markdown",
   "metadata": {},
   "source": [
    "## Способ №1. Подсчет метрики по формуле для каждой пары слово-документ"
   ]
  },
  {
   "cell_type": "code",
   "execution_count": 120,
   "metadata": {},
   "outputs": [
    {
     "name": "stdout",
     "output_type": "stream",
     "text": [
      "Точность поиска =  0.8968\n",
      "Wall time: 34 s\n"
     ]
    }
   ],
   "source": [
    "%%time\n",
    "\n",
    "success = []\n",
    "q_number = 0\n",
    "\n",
    "for q in quer:\n",
    "    bms = []\n",
    "    \n",
    "    for i in q.split():\n",
    "        for indx, word in enumerate(words):\n",
    "            if i == word:\n",
    "                bm = bm_mtrx[indx]\n",
    "                bms.append(bm)\n",
    "                \n",
    "    if len(bms) > 0:\n",
    "        q_bm = sum(np.array(bms))\n",
    "        for_range = list(zip(q_bm, docs))\n",
    "        sort_range = sorted(for_range, reverse=True)\n",
    "        \n",
    "        for indx, i in enumerate(sort_range):\n",
    "            if indx < 5:\n",
    "                if i[1][1] == '1':\n",
    "                    success.append(1)\n",
    "                    break\n",
    "                    \n",
    "    q_number += 1\n",
    "        \n",
    "accuracy = len(success) / q_number\n",
    "print('Точность поиска = ', accuracy)"
   ]
  },
  {
   "cell_type": "markdown",
   "metadata": {},
   "source": [
    "## Способ №2. Подсчет метрики через умножение матрицы на вектор"
   ]
  },
  {
   "cell_type": "code",
   "execution_count": 121,
   "metadata": {},
   "outputs": [],
   "source": [
    "import numpy as np"
   ]
  },
  {
   "cell_type": "code",
   "execution_count": 122,
   "metadata": {},
   "outputs": [
    {
     "name": "stdout",
     "output_type": "stream",
     "text": [
      "Точность поиска =  0.902\n",
      "Wall time: 26min 49s\n"
     ]
    }
   ],
   "source": [
    "%%time\n",
    "q_number = 0\n",
    "success = []\n",
    "\n",
    "for q in quer:\n",
    "    vector = []\n",
    "    \n",
    "#создаем вектор запроса из нолей и единиц\n",
    "    for word in words:\n",
    "        if word in q.split():\n",
    "            vector.append(1)\n",
    "        else:\n",
    "            vector.append(0)\n",
    "        \n",
    "    np_vector = np.asarray(vector)\n",
    "    #умножаем матрицу bm25 на полученный вектор\n",
    "    q_bm = np_vector.dot(np.asarray(bm_mtrx))\n",
    "\n",
    "    for_range = list(zip(q_bm, docs))\n",
    "    sort_range = sorted(for_range, reverse=True)\n",
    "        \n",
    "    for indx, i in enumerate(sort_range):\n",
    "        if indx < 5:\n",
    "            if i[1][1] == '1':\n",
    "                success.append(1)\n",
    "                break\n",
    "                    \n",
    "    q_number += 1\n",
    "        \n",
    "accuracy = len(success) / q_number\n",
    "print('Точность поиска = ', accuracy)"
   ]
  },
  {
   "cell_type": "markdown",
   "metadata": {},
   "source": [
    "# Задача 2"
   ]
  },
  {
   "cell_type": "code",
   "execution_count": 123,
   "metadata": {},
   "outputs": [],
   "source": [
    "#ДИСКЛЕЙМЕР!!! Т.к. мой корпус состоит всего из 2500 предложений, в нем нет слов из запроса \"рождественские каникулы\". Поэтому я взяла другое словосочетание."
   ]
  },
  {
   "cell_type": "code",
   "execution_count": 124,
   "metadata": {},
   "outputs": [],
   "source": [
    "q_input = 'день рождения'\n",
    "q_arr = [pmm.normal_forms(x)[0] for x in q_input.split() if x not in russian_stopwords]\n",
    "bms_q = []\n",
    "    \n",
    "for i in q_input.split():\n",
    "    for indx, word in enumerate(words):\n",
    "        \n",
    "        if i == word:\n",
    "            bm = bm_mtrx[indx]\n",
    "            bms_q.append(bm)"
   ]
  },
  {
   "cell_type": "code",
   "execution_count": 125,
   "metadata": {},
   "outputs": [
    {
     "data": {
      "text/plain": [
       "array([0., 0., 0., ..., 0., 0., 0.])"
      ]
     },
     "execution_count": 125,
     "metadata": {},
     "output_type": "execute_result"
    }
   ],
   "source": [
    "v = sum(np.array(bms_q))\n",
    "v"
   ]
  },
  {
   "cell_type": "code",
   "execution_count": 126,
   "metadata": {},
   "outputs": [],
   "source": [
    "for_range = list(zip(v, docs))"
   ]
  },
  {
   "cell_type": "code",
   "execution_count": 127,
   "metadata": {},
   "outputs": [],
   "source": [
    "sort_range = sorted(for_range, reverse=True)"
   ]
  },
  {
   "cell_type": "code",
   "execution_count": 128,
   "metadata": {},
   "outputs": [
    {
     "name": "stdout",
     "output_type": "stream",
     "text": [
      "если бы у вас была возможность быть кем-то еще на один день, кто бы вы были :  2.7763629925786444\n",
      "будет есть 2 000 калорий в день, чтобы я похудел :  2.7763629925786444\n",
      "можно сжечь 1000 калорий каждый день, если да, как :  1.8811307833920714\n",
      "что произойдет, если диктатура сохранится и в наши дни :  1.349112540919825\n",
      "у меня есть мания, если я слушаю музыку в течение всего дня :  1.349112540919825\n",
      "сколько раз нужно заниматься сексом в день :  1.349112540919825\n",
      "сколько раз в день перекрывают руки часы :  1.349112540919825\n",
      "сколько минут йоги можно сделать за один день :  1.349112540919825\n",
      "сколько времени занимает квора в день :  1.349112540919825\n",
      "здорово есть целый авокадо каждый день :  1.349112540919825\n"
     ]
    }
   ],
   "source": [
    "for indx, row in enumerate(sort_range):\n",
    "    if indx < 10:\n",
    "        print(row[1][0], ': ', row[0])"
   ]
  },
  {
   "cell_type": "code",
   "execution_count": 129,
   "metadata": {},
   "outputs": [
    {
     "name": "stdout",
     "output_type": "stream",
     "text": [
      "Алгоритм точен!\n"
     ]
    }
   ],
   "source": [
    "if_success = []\n",
    "for indx, row in enumerate(sort_range):\n",
    "    \n",
    "    if indx < 5:\n",
    "        if row[1][1] == '1':\n",
    "            if_success.append('wow')\n",
    "            \n",
    "if 'wow' in if_success:\n",
    "    print('Алгоритм точен!')\n",
    "else:\n",
    "    print('Алгоритм не точен.')"
   ]
  },
  {
   "cell_type": "markdown",
   "metadata": {},
   "source": [
    "# Задача 3"
   ]
  },
  {
   "cell_type": "markdown",
   "metadata": {},
   "source": [
    "## BM25, b=0.75"
   ]
  },
  {
   "cell_type": "code",
   "execution_count": 130,
   "metadata": {},
   "outputs": [],
   "source": [
    "b = 0.75"
   ]
  },
  {
   "cell_type": "code",
   "execution_count": 131,
   "metadata": {},
   "outputs": [],
   "source": [
    "#Создание матрицы с BM25\n",
    "bm_mtrx = []\n",
    "for index, word in enumerate(words):\n",
    "    word_bms = []\n",
    "    for indx, doc in enumerate(corp):\n",
    "        l = float(lens_d[indx])\n",
    "        n = float(number_of_docs[index])\n",
    "        TF = float(TFs[index][indx])\n",
    "        bm = math.log((N - n + 0.5) / (n + 0.5)) * (TF * (k + 1)) / (TF + (k * (1 - b + b * l / avgdl)))\n",
    "        word_bms.append(bm)\n",
    "    bm_mtrx.append(word_bms)"
   ]
  },
  {
   "cell_type": "code",
   "execution_count": 132,
   "metadata": {},
   "outputs": [
    {
     "name": "stdout",
     "output_type": "stream",
     "text": [
      "Точность поиска =  0.8968\n"
     ]
    }
   ],
   "source": [
    "success = []\n",
    "q_number = 0\n",
    "\n",
    "for q in quer:\n",
    "    bms = []\n",
    "    \n",
    "    for i in q.split():\n",
    "        for indx, word in enumerate(words):\n",
    "            if i == word:\n",
    "                bm = bm_mtrx[indx]\n",
    "                bms.append(bm)\n",
    "                \n",
    "    if len(bms) > 0:\n",
    "        q_bm = sum(np.array(bms))\n",
    "        for_range = list(zip(q_bm, docs))\n",
    "        sort_range = sorted(for_range, reverse=True)\n",
    "        \n",
    "        for indx, i in enumerate(sort_range):\n",
    "            if indx < 5:\n",
    "                if i[1][1] == '1':\n",
    "                    success.append(1)\n",
    "                    break\n",
    "                    \n",
    "    q_number += 1\n",
    "        \n",
    "accuracy = len(success) / q_number\n",
    "print('Точность поиска = ', accuracy)"
   ]
  },
  {
   "cell_type": "markdown",
   "metadata": {},
   "source": [
    "## BM15, b=0"
   ]
  },
  {
   "cell_type": "code",
   "execution_count": 133,
   "metadata": {},
   "outputs": [],
   "source": [
    "b = 0"
   ]
  },
  {
   "cell_type": "code",
   "execution_count": 134,
   "metadata": {},
   "outputs": [],
   "source": [
    "#Создание матрицы с BM25\n",
    "bm_mtrx = []\n",
    "for index, word in enumerate(words):\n",
    "    word_bms = []\n",
    "    for indx, doc in enumerate(corp):\n",
    "        l = float(lens_d[indx])\n",
    "        n = float(number_of_docs[index])\n",
    "        TF = float(TFs[index][indx])\n",
    "        bm = math.log((N - n + 0.5) / (n + 0.5)) * (TF * (k + 1)) / (TF + (k * (1 - b + b * l / avgdl)))\n",
    "        word_bms.append(bm)\n",
    "    bm_mtrx.append(word_bms)"
   ]
  },
  {
   "cell_type": "code",
   "execution_count": 135,
   "metadata": {},
   "outputs": [
    {
     "name": "stdout",
     "output_type": "stream",
     "text": [
      "Точность поиска =  0.9032\n"
     ]
    }
   ],
   "source": [
    "success = []\n",
    "q_number = 0\n",
    "\n",
    "for q in quer:\n",
    "    bms = []\n",
    "    \n",
    "    for i in q.split():\n",
    "        for indx, word in enumerate(words):\n",
    "            if i == word:\n",
    "                bm = bm_mtrx[indx]\n",
    "                bms.append(bm)\n",
    "                \n",
    "    if len(bms) > 0:\n",
    "        q_bm = sum(np.array(bms))\n",
    "        for_range = list(zip(q_bm, docs))\n",
    "        sort_range = sorted(for_range, reverse=True)\n",
    "        \n",
    "        for indx, i in enumerate(sort_range):\n",
    "            if indx < 5:\n",
    "                if i[1][1] == '1':\n",
    "                    success.append(1)\n",
    "                    break\n",
    "                    \n",
    "    q_number += 1\n",
    "        \n",
    "accuracy = len(success) / q_number\n",
    "print('Точность поиска = ', accuracy)"
   ]
  },
  {
   "cell_type": "markdown",
   "metadata": {},
   "source": [
    "## BM11, b=1"
   ]
  },
  {
   "cell_type": "code",
   "execution_count": 139,
   "metadata": {},
   "outputs": [],
   "source": [
    "b = 1"
   ]
  },
  {
   "cell_type": "code",
   "execution_count": 140,
   "metadata": {},
   "outputs": [
    {
     "ename": "ZeroDivisionError",
     "evalue": "float division by zero",
     "output_type": "error",
     "traceback": [
      "\u001b[1;31m---------------------------------------------------------------------------\u001b[0m",
      "\u001b[1;31mZeroDivisionError\u001b[0m                         Traceback (most recent call last)",
      "\u001b[1;32m<ipython-input-140-bfa257164534>\u001b[0m in \u001b[0;36m<module>\u001b[1;34m\u001b[0m\n\u001b[0;32m      7\u001b[0m         \u001b[0mn\u001b[0m \u001b[1;33m=\u001b[0m \u001b[0mfloat\u001b[0m\u001b[1;33m(\u001b[0m\u001b[0mnumber_of_docs\u001b[0m\u001b[1;33m[\u001b[0m\u001b[0mindex\u001b[0m\u001b[1;33m]\u001b[0m\u001b[1;33m)\u001b[0m\u001b[1;33m\u001b[0m\u001b[1;33m\u001b[0m\u001b[0m\n\u001b[0;32m      8\u001b[0m         \u001b[0mTF\u001b[0m \u001b[1;33m=\u001b[0m \u001b[0mfloat\u001b[0m\u001b[1;33m(\u001b[0m\u001b[0mTFs\u001b[0m\u001b[1;33m[\u001b[0m\u001b[0mindex\u001b[0m\u001b[1;33m]\u001b[0m\u001b[1;33m[\u001b[0m\u001b[0mindx\u001b[0m\u001b[1;33m]\u001b[0m\u001b[1;33m)\u001b[0m\u001b[1;33m\u001b[0m\u001b[1;33m\u001b[0m\u001b[0m\n\u001b[1;32m----> 9\u001b[1;33m         \u001b[0mbm\u001b[0m \u001b[1;33m=\u001b[0m \u001b[0mmath\u001b[0m\u001b[1;33m.\u001b[0m\u001b[0mlog\u001b[0m\u001b[1;33m(\u001b[0m\u001b[1;33m(\u001b[0m\u001b[0mN\u001b[0m \u001b[1;33m-\u001b[0m \u001b[0mn\u001b[0m \u001b[1;33m+\u001b[0m \u001b[1;36m0.5\u001b[0m\u001b[1;33m)\u001b[0m \u001b[1;33m/\u001b[0m \u001b[1;33m(\u001b[0m\u001b[0mn\u001b[0m \u001b[1;33m+\u001b[0m \u001b[1;36m0.5\u001b[0m\u001b[1;33m)\u001b[0m\u001b[1;33m)\u001b[0m \u001b[1;33m*\u001b[0m \u001b[1;33m(\u001b[0m\u001b[1;33m(\u001b[0m\u001b[0mTF\u001b[0m \u001b[1;33m*\u001b[0m \u001b[1;33m(\u001b[0m\u001b[0mk\u001b[0m \u001b[1;33m+\u001b[0m \u001b[1;36m1\u001b[0m\u001b[1;33m)\u001b[0m\u001b[1;33m)\u001b[0m \u001b[1;33m/\u001b[0m \u001b[1;33m(\u001b[0m\u001b[0mTF\u001b[0m \u001b[1;33m+\u001b[0m \u001b[0mk\u001b[0m \u001b[1;33m*\u001b[0m \u001b[1;33m(\u001b[0m\u001b[1;36m1\u001b[0m \u001b[1;33m-\u001b[0m \u001b[0mb\u001b[0m \u001b[1;33m+\u001b[0m \u001b[0mb\u001b[0m \u001b[1;33m*\u001b[0m \u001b[0ml\u001b[0m \u001b[1;33m/\u001b[0m \u001b[0mavgdl\u001b[0m\u001b[1;33m)\u001b[0m\u001b[1;33m)\u001b[0m\u001b[1;33m)\u001b[0m\u001b[1;33m\u001b[0m\u001b[1;33m\u001b[0m\u001b[0m\n\u001b[0m\u001b[0;32m     10\u001b[0m         \u001b[0mword_bms\u001b[0m\u001b[1;33m.\u001b[0m\u001b[0mappend\u001b[0m\u001b[1;33m(\u001b[0m\u001b[0mbm\u001b[0m\u001b[1;33m)\u001b[0m\u001b[1;33m\u001b[0m\u001b[1;33m\u001b[0m\u001b[0m\n\u001b[0;32m     11\u001b[0m     \u001b[0mbm_mtrx\u001b[0m\u001b[1;33m.\u001b[0m\u001b[0mappend\u001b[0m\u001b[1;33m(\u001b[0m\u001b[0mword_bms\u001b[0m\u001b[1;33m)\u001b[0m\u001b[1;33m\u001b[0m\u001b[1;33m\u001b[0m\u001b[0m\n",
      "\u001b[1;31mZeroDivisionError\u001b[0m: float division by zero"
     ]
    }
   ],
   "source": [
    "#Создание матрицы с BM25\n",
    "bm_mtrx = []\n",
    "for index, word in enumerate(words):\n",
    "    word_bms = []\n",
    "    for indx, doc in enumerate(corp):\n",
    "        l = float(lens_d[indx])\n",
    "        n = float(number_of_docs[index])\n",
    "        TF = float(TFs[index][indx])\n",
    "        bm = math.log((N - n + 0.5) / (n + 0.5)) * ((TF * (k + 1)) / (TF + k * (1 - b + b * l / avgdl)))\n",
    "        word_bms.append(bm)\n",
    "    bm_mtrx.append(word_bms)"
   ]
  },
  {
   "cell_type": "code",
   "execution_count": 141,
   "metadata": {},
   "outputs": [],
   "source": [
    "#BM11 не сработало из-за ошибки с делением на 0."
   ]
  }
 ],
 "metadata": {
  "kernelspec": {
   "display_name": "Python 3",
   "language": "python",
   "name": "python3"
  },
  "language_info": {
   "codemirror_mode": {
    "name": "ipython",
    "version": 3
   },
   "file_extension": ".py",
   "mimetype": "text/x-python",
   "name": "python",
   "nbconvert_exporter": "python",
   "pygments_lexer": "ipython3",
   "version": "3.7.2"
  }
 },
 "nbformat": 4,
 "nbformat_minor": 2
}
