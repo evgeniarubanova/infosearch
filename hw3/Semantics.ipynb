{
 "cells": [
  {
   "cell_type": "code",
   "execution_count": 0,
   "metadata": {
    "colab": {},
    "colab_type": "code",
    "id": "h0mTMn5QN-wK"
   },
   "outputs": [],
   "source": [
    "#Проверяю качество работы модели на 1000 запросах"
   ]
  },
  {
   "cell_type": "markdown",
   "metadata": {},
   "source": [
    "# Поиск с Fasttext"
   ]
  },
  {
   "cell_type": "code",
   "execution_count": 0,
   "metadata": {
    "colab": {},
    "colab_type": "code",
    "id": "13moIgDTgx7u"
   },
   "outputs": [],
   "source": [
    "from gensim.models import Word2Vec\n",
    "from gensim.models.keyedvectors import KeyedVectors"
   ]
  },
  {
   "cell_type": "code",
   "execution_count": 0,
   "metadata": {
    "colab": {
     "base_uri": "https://localhost:8080/",
     "height": 124
    },
    "colab_type": "code",
    "id": "oh0Hsdytn-iO",
    "outputId": "20497f38-b676-44e7-fb17-c38f029c9e43"
   },
   "outputs": [
    {
     "name": "stdout",
     "output_type": "stream",
     "text": [
      "Go to this URL in a browser: https://accounts.google.com/o/oauth2/auth?client_id=947318989803-6bn6qk8qdgf4n4g3pfee6491hc0brc4i.apps.googleusercontent.com&redirect_uri=urn%3Aietf%3Awg%3Aoauth%3A2.0%3Aoob&scope=email%20https%3A%2F%2Fwww.googleapis.com%2Fauth%2Fdocs.test%20https%3A%2F%2Fwww.googleapis.com%2Fauth%2Fdrive%20https%3A%2F%2Fwww.googleapis.com%2Fauth%2Fdrive.photos.readonly%20https%3A%2F%2Fwww.googleapis.com%2Fauth%2Fpeopleapi.readonly&response_type=code\n",
      "\n",
      "Enter your authorization code:\n",
      "··········\n",
      "Mounted at /content/drive\n"
     ]
    }
   ],
   "source": [
    "#from google.colab import drive\n",
    "#drive.mount('/content/drive')"
   ]
  },
  {
   "cell_type": "code",
   "execution_count": 0,
   "metadata": {
    "colab": {},
    "colab_type": "code",
    "id": "N_yCUZh1gx7y"
   },
   "outputs": [],
   "source": [
    "#model_file = '/content/drive/My Drive/fasttext/model.model'"
   ]
  },
  {
   "cell_type": "code",
   "execution_count": null,
   "metadata": {},
   "outputs": [],
   "source": [
    "model_file = 'fasttext/model.model'"
   ]
  },
  {
   "cell_type": "code",
   "execution_count": 0,
   "metadata": {
    "colab": {
     "base_uri": "https://localhost:8080/",
     "height": 72
    },
    "colab_type": "code",
    "id": "M3fm0vTTgx72",
    "outputId": "173b4cf1-130a-4907-8fc5-e02895aef66c"
   },
   "outputs": [
    {
     "name": "stderr",
     "output_type": "stream",
     "text": [
      "/usr/local/lib/python3.6/dist-packages/smart_open/smart_open_lib.py:398: UserWarning: This function is deprecated, use smart_open.open instead. See the migration notes for details: https://github.com/RaRe-Technologies/smart_open/blob/master/README.rst#migrating-to-the-new-open-function\n",
      "  'See the migration notes for details: %s' % _MIGRATION_NOTES_URL\n"
     ]
    }
   ],
   "source": [
    "model_fasttext = KeyedVectors.load(model_file)"
   ]
  },
  {
   "cell_type": "code",
   "execution_count": 0,
   "metadata": {
    "colab": {},
    "colab_type": "code",
    "id": "Yjq31RqXgx8A"
   },
   "outputs": [],
   "source": [
    "import csv\n",
    "with open('quora_question_pairs_rus.csv', 'r', encoding = 'utf-8') as j:\n",
    "    reader = csv.reader(j)\n",
    "    file = list(reader)"
   ]
  },
  {
   "cell_type": "code",
   "execution_count": 0,
   "metadata": {
    "colab": {},
    "colab_type": "code",
    "id": "nTyL9w8Gu8jg"
   },
   "outputs": [],
   "source": [
    "docs = []\n",
    "for indx, row in enumerate(file):\n",
    "    if indx > 0:\n",
    "        docs.append([row[2], row[3]])"
   ]
  },
  {
   "cell_type": "code",
   "execution_count": 0,
   "metadata": {
    "colab": {
     "base_uri": "https://localhost:8080/",
     "height": 228
    },
    "colab_type": "code",
    "id": "eVCymYZ8vSrz",
    "outputId": "9f738db3-a90f-405b-b8c8-d24f532a3229"
   },
   "outputs": [
    {
     "name": "stdout",
     "output_type": "stream",
     "text": [
      "Collecting pymorphy2\n",
      "\u001b[?25l  Downloading https://files.pythonhosted.org/packages/a3/33/fff9675c68b5f6c63ec8c6e6ff57827dda28a1fa5b2c2d727dffff92dd47/pymorphy2-0.8-py2.py3-none-any.whl (46kB)\n",
      "\u001b[K     |████████████████████████████████| 51kB 2.1MB/s \n",
      "\u001b[?25hCollecting pymorphy2-dicts<3.0,>=2.4 (from pymorphy2)\n",
      "\u001b[?25l  Downloading https://files.pythonhosted.org/packages/02/51/2465fd4f72328ab50877b54777764d928da8cb15b74e2680fc1bd8cb3173/pymorphy2_dicts-2.4.393442.3710985-py2.py3-none-any.whl (7.1MB)\n",
      "\u001b[K     |████████████████████████████████| 7.1MB 8.3MB/s \n",
      "\u001b[?25hCollecting dawg-python>=0.7 (from pymorphy2)\n",
      "  Downloading https://files.pythonhosted.org/packages/6a/84/ff1ce2071d4c650ec85745766c0047ccc3b5036f1d03559fd46bb38b5eeb/DAWG_Python-0.7.2-py2.py3-none-any.whl\n",
      "Requirement already satisfied: docopt>=0.6 in /usr/local/lib/python3.6/dist-packages (from pymorphy2) (0.6.2)\n",
      "Installing collected packages: pymorphy2-dicts, dawg-python, pymorphy2\n",
      "Successfully installed dawg-python-0.7.2 pymorphy2-0.8 pymorphy2-dicts-2.4.393442.3710985\n"
     ]
    }
   ],
   "source": [
    "!pip install pymorphy2"
   ]
  },
  {
   "cell_type": "code",
   "execution_count": 0,
   "metadata": {
    "colab": {},
    "colab_type": "code",
    "id": "rhr11Q24vE6g"
   },
   "outputs": [],
   "source": [
    "import pymorphy2 as pm2\n",
    "pmm = pm2.MorphAnalyzer()\n",
    "import re"
   ]
  },
  {
   "cell_type": "code",
   "execution_count": 0,
   "metadata": {
    "colab": {
     "base_uri": "https://localhost:8080/",
     "height": 52
    },
    "colab_type": "code",
    "id": "YABmIchnvF4N",
    "outputId": "8880ec13-935f-4562-9639-f09e1b950b76"
   },
   "outputs": [
    {
     "name": "stdout",
     "output_type": "stream",
     "text": [
      "[nltk_data] Downloading package stopwords to /root/nltk_data...\n",
      "[nltk_data]   Unzipping corpora/stopwords.zip.\n"
     ]
    }
   ],
   "source": [
    "import nltk\n",
    "nltk.download(\"stopwords\")\n",
    "\n",
    "from nltk.corpus import stopwords\n",
    "russian_stopwords = stopwords.words(\"russian\")"
   ]
  },
  {
   "cell_type": "code",
   "execution_count": 0,
   "metadata": {
    "colab": {},
    "colab_type": "code",
    "id": "0kBooVcQvhGn"
   },
   "outputs": [],
   "source": [
    "corpus = []\n",
    "for indx, row in enumerate(file):\n",
    "    if indx > 0:\n",
    "      \n",
    "        doc = row[2]\n",
    "        doc = re.sub(r'[^\\w\\s]', '', doc)\n",
    "        doc = re.sub(r'\\d', '', doc)\n",
    "        \n",
    "        doc = re.sub(r'[A-Za-z]', '', doc)\n",
    "        doc_arr = [pmm.normal_forms(x)[0] for x in doc.split() if x not in russian_stopwords]\n",
    "        doc = ' '.join(doc_arr)\n",
    "        \n",
    "        corpus.append(doc)"
   ]
  },
  {
   "cell_type": "code",
   "execution_count": 0,
   "metadata": {
    "colab": {
     "base_uri": "https://localhost:8080/",
     "height": 35
    },
    "colab_type": "code",
    "id": "-yrpp8HifqUe",
    "outputId": "602aaaf6-3a80-43ef-b1fd-ff1ed7e46eef"
   },
   "outputs": [
    {
     "data": {
      "text/plain": [
       "404288"
      ]
     },
     "execution_count": 12,
     "metadata": {
      "tags": []
     },
     "output_type": "execute_result"
    }
   ],
   "source": [
    "len(corpus)"
   ]
  },
  {
   "cell_type": "code",
   "execution_count": 0,
   "metadata": {
    "colab": {},
    "colab_type": "code",
    "id": "0BQ3ZWmg0z8b"
   },
   "outputs": [],
   "source": [
    "import numpy as np"
   ]
  },
  {
   "cell_type": "code",
   "execution_count": 0,
   "metadata": {
    "colab": {
     "base_uri": "https://localhost:8080/",
     "height": 107
    },
    "colab_type": "code",
    "id": "8fMrEQq8xGS3",
    "outputId": "a1193929-0f5a-4abf-ba97-5865e03b9682"
   },
   "outputs": [
    {
     "name": "stderr",
     "output_type": "stream",
     "text": [
      "/usr/local/lib/python3.6/dist-packages/ipykernel_launcher.py:10: DeprecationWarning: Call to deprecated `wv` (Attribute will be removed in 4.0.0, use self instead).\n",
      "  # Remove the CWD from sys.path while we load stuff.\n"
     ]
    },
    {
     "name": "stdout",
     "output_type": "stream",
     "text": [
      "CPU times: user 24.7 s, sys: 1.96 s, total: 26.7 s\n",
      "Wall time: 26.8 s\n"
     ]
    }
   ],
   "source": [
    "%%time\n",
    "\n",
    "matrix = []\n",
    "for doc in corpus:\n",
    "    doc = doc.split()\n",
    "    lemmas_vectors = np.zeros((len(doc), model_fasttext.vector_size))\n",
    "    vec = np.zeros((model_fasttext.vector_size,))\n",
    "  \n",
    "    for idx, lemma in enumerate(doc):\n",
    "        if lemma in model_fasttext.vocab:\n",
    "            lemmas_vectors[idx] = model_fasttext.wv[lemma]\n",
    "        \n",
    "    if lemmas_vectors.shape[0] is not 0:\n",
    "        vec = np.mean(lemmas_vectors, axis=0)\n",
    "  \n",
    "    matrix.append(vec)"
   ]
  },
  {
   "cell_type": "code",
   "execution_count": 0,
   "metadata": {
    "colab": {
     "base_uri": "https://localhost:8080/",
     "height": 35
    },
    "colab_type": "code",
    "id": "vIrdjc590Eei",
    "outputId": "6533204d-1ee1-4318-e5ac-e211ef36de83"
   },
   "outputs": [
    {
     "data": {
      "text/plain": [
       "404288"
      ]
     },
     "execution_count": 15,
     "metadata": {
      "tags": []
     },
     "output_type": "execute_result"
    }
   ],
   "source": [
    "len(matrix)"
   ]
  },
  {
   "cell_type": "code",
   "execution_count": 0,
   "metadata": {
    "colab": {},
    "colab_type": "code",
    "id": "RyTdpi0Roq3j"
   },
   "outputs": [],
   "source": [
    "np_matrix = np.asarray(matrix)\n",
    "rev_matrix = np.transpose(np_matrix)"
   ]
  },
  {
   "cell_type": "code",
   "execution_count": 0,
   "metadata": {
    "colab": {},
    "colab_type": "code",
    "id": "iAfUwRTGbjVd"
   },
   "outputs": [],
   "source": [
    "queries = []\n",
    "for indx, row in enumerate(file):\n",
    "    if indx > 0:\n",
    "      \n",
    "        query = row[1]\n",
    "        query = re.sub(r'[^\\w\\s]', '', query)\n",
    "        query = re.sub(r'\\d', '', query)\n",
    "        \n",
    "        query = re.sub(r'[A-Za-z]', '', query)\n",
    "        query_arr = [pmm.normal_forms(x)[0] for x in query.split() if x not in russian_stopwords]\n",
    "        query = ' '.join(query_arr)\n",
    "        \n",
    "        queries.append(query)"
   ]
  },
  {
   "cell_type": "code",
   "execution_count": 0,
   "metadata": {
    "colab": {
     "base_uri": "https://localhost:8080/",
     "height": 35
    },
    "colab_type": "code",
    "id": "ML9Y0OpOczfP",
    "outputId": "d7701fd6-b20d-4831-e16b-ed30c1af19fb"
   },
   "outputs": [
    {
     "data": {
      "text/plain": [
       "404288"
      ]
     },
     "execution_count": 19,
     "metadata": {
      "tags": []
     },
     "output_type": "execute_result"
    }
   ],
   "source": [
    "len(queries)"
   ]
  },
  {
   "cell_type": "code",
   "execution_count": 0,
   "metadata": {
    "colab": {
     "base_uri": "https://localhost:8080/",
     "height": 89
    },
    "colab_type": "code",
    "id": "4Xt_YfZAmGHS",
    "outputId": "ee8d319c-1d88-4417-e3cc-1d41b1b23394"
   },
   "outputs": [
    {
     "name": "stderr",
     "output_type": "stream",
     "text": [
      "/usr/local/lib/python3.6/dist-packages/ipykernel_launcher.py:13: DeprecationWarning: Call to deprecated `wv` (Attribute will be removed in 4.0.0, use self instead).\n",
      "  del sys.path[0]\n"
     ]
    },
    {
     "name": "stdout",
     "output_type": "stream",
     "text": [
      "Точность поиска =  0.684\n"
     ]
    }
   ],
   "source": [
    "success = []\n",
    "\n",
    "quers = queries[:1000]\n",
    "\n",
    "for query in quers:\n",
    "\n",
    "    q = query.split()\n",
    "    lemmas_vectors = np.zeros((len(q), model_fasttext.vector_size))\n",
    "    vec = np.zeros((model_fasttext.vector_size,))\n",
    "  \n",
    "    for idx, lemma in enumerate(q):\n",
    "        if lemma in model_fasttext.vocab:\n",
    "            lemmas_vectors[idx] = model_fasttext.wv[lemma]\n",
    "        \n",
    "    if lemmas_vectors.shape[0] is not 0:\n",
    "        vec = np.mean(lemmas_vectors, axis=0)\n",
    "        \n",
    "    mult = vec.dot(rev_matrix)\n",
    "    for_range = list(zip(mult, docs))\n",
    "    sort_range = sorted(for_range, reverse=True)\n",
    "        \n",
    "    for indx, i in enumerate(sort_range):\n",
    "        if indx < 5:\n",
    "            if i[1][1] == '1':\n",
    "                success.append(1)\n",
    "                break\n",
    "                    \n",
    "        \n",
    "accuracy = len(success) / len(quers)\n",
    "print('Точность поиска = ', accuracy)"
   ]
  },
  {
   "cell_type": "markdown",
   "metadata": {},
   "source": [
    "# Поиск с BM25"
   ]
  },
  {
   "cell_type": "code",
   "execution_count": 0,
   "metadata": {
    "colab": {},
    "colab_type": "code",
    "id": "iomZ7qk9X80q"
   },
   "outputs": [],
   "source": [
    "corp = corpus[:1000]"
   ]
  },
  {
   "cell_type": "code",
   "execution_count": 0,
   "metadata": {
    "colab": {},
    "colab_type": "code",
    "id": "NLW_ycUPo7GZ"
   },
   "outputs": [],
   "source": [
    "N = len(corp)"
   ]
  },
  {
   "cell_type": "code",
   "execution_count": 0,
   "metadata": {
    "colab": {
     "base_uri": "https://localhost:8080/",
     "height": 35
    },
    "colab_type": "code",
    "id": "OC1Mkhf4X4pB",
    "outputId": "81a118b8-231c-465a-c673-c9705fd48a14"
   },
   "outputs": [
    {
     "data": {
      "text/plain": [
       "[7, 5, 5, 4, 8]"
      ]
     },
     "execution_count": 35,
     "metadata": {
      "tags": []
     },
     "output_type": "execute_result"
    }
   ],
   "source": [
    "#длины документов\n",
    "lens_d = []\n",
    "for doc in corp:\n",
    "    doc = doc.split()\n",
    "    lens_d.append(len(doc))\n",
    "lens_d[:5]"
   ]
  },
  {
   "cell_type": "code",
   "execution_count": 0,
   "metadata": {
    "colab": {
     "base_uri": "https://localhost:8080/",
     "height": 35
    },
    "colab_type": "code",
    "id": "5yQKhhCRYEXy",
    "outputId": "4f2ddb6e-34ad-4d36-ebc7-4b6a83c19308"
   },
   "outputs": [
    {
     "data": {
      "text/plain": [
       "5.741"
      ]
     },
     "execution_count": 36,
     "metadata": {
      "tags": []
     },
     "output_type": "execute_result"
    }
   ],
   "source": [
    "#средняя длина документа\n",
    "avgdl = sum(lens_d)/len(lens_d)\n",
    "avgdl"
   ]
  },
  {
   "cell_type": "code",
   "execution_count": 0,
   "metadata": {
    "colab": {},
    "colab_type": "code",
    "id": "XCmqphKDYGwc"
   },
   "outputs": [],
   "source": [
    "#константы\n",
    "k = 2\n",
    "b = 0.75"
   ]
  },
  {
   "cell_type": "code",
   "execution_count": 0,
   "metadata": {
    "colab": {},
    "colab_type": "code",
    "id": "_HIt0ZGwYJy0"
   },
   "outputs": [],
   "source": [
    "from sklearn.feature_extraction.text import CountVectorizer\n",
    "vectorizer = CountVectorizer()\n",
    "import numpy as np"
   ]
  },
  {
   "cell_type": "code",
   "execution_count": 0,
   "metadata": {
    "colab": {},
    "colab_type": "code",
    "id": "rUfvHQ6pYK5i"
   },
   "outputs": [],
   "source": [
    "X = vectorizer.fit_transform(corp)\n",
    "#уникальные слова в корпусе\n",
    "words = vectorizer.get_feature_names()"
   ]
  },
  {
   "cell_type": "code",
   "execution_count": 0,
   "metadata": {
    "colab": {},
    "colab_type": "code",
    "id": "xlOGqLtLYQy3"
   },
   "outputs": [],
   "source": [
    "matrix = X.toarray()\n",
    "#обратная матрица\n",
    "rev_matrix = np.transpose(matrix)"
   ]
  },
  {
   "cell_type": "code",
   "execution_count": 0,
   "metadata": {
    "colab": {},
    "colab_type": "code",
    "id": "7Wfs8wSSYUjC"
   },
   "outputs": [],
   "source": [
    "#кол-во документов, где есть слово\n",
    "number_of_docs = []\n",
    "for word in rev_matrix:\n",
    "    count = 0\n",
    "    for i in word:\n",
    "        if i != 0:\n",
    "            count += 1\n",
    "    number_of_docs.append(count)"
   ]
  },
  {
   "cell_type": "code",
   "execution_count": 0,
   "metadata": {
    "colab": {},
    "colab_type": "code",
    "id": "Fcuh-W1PYXZM"
   },
   "outputs": [],
   "source": [
    "TFs = []\n",
    "for word in words:\n",
    "    arr = []\n",
    "    for sent in corp:\n",
    "        TF = 0\n",
    "        sent = sent.split()\n",
    "        if word in sent:\n",
    "            num = 0\n",
    "            for s in sent:\n",
    "                if word == s:\n",
    "                    num += 1\n",
    "            TF = num / len(sent)\n",
    "        arr.append(TF)\n",
    "    TFs.append(arr)"
   ]
  },
  {
   "cell_type": "code",
   "execution_count": 0,
   "metadata": {
    "colab": {},
    "colab_type": "code",
    "id": "xLQw9f9uYg7V"
   },
   "outputs": [],
   "source": [
    "import math"
   ]
  },
  {
   "cell_type": "code",
   "execution_count": 0,
   "metadata": {
    "colab": {},
    "colab_type": "code",
    "id": "ck4qG08zYaTn"
   },
   "outputs": [],
   "source": [
    "#Создание матрицы с BM25\n",
    "bm_mtrx = []\n",
    "for index, word in enumerate(words):\n",
    "    word_bms = []\n",
    "    for indx, doc in enumerate(corp):\n",
    "        l = float(lens_d[indx])\n",
    "        n = float(number_of_docs[index])\n",
    "        TF = float(TFs[index][indx])\n",
    "        bm = math.log((N - n + 0.5) / (n + 0.5)) * (TF * (k + 1)) / (TF + (k * (1 - b + b * l / avgdl)))\n",
    "        word_bms.append(bm)\n",
    "    bm_mtrx.append(word_bms)"
   ]
  },
  {
   "cell_type": "code",
   "execution_count": 0,
   "metadata": {
    "colab": {
     "base_uri": "https://localhost:8080/",
     "height": 35
    },
    "colab_type": "code",
    "id": "3hgpSUSgYj0Q",
    "outputId": "1d21d292-4044-4c8e-aa1a-3262261638ee"
   },
   "outputs": [
    {
     "data": {
      "text/plain": [
       "2372"
      ]
     },
     "execution_count": 48,
     "metadata": {
      "tags": []
     },
     "output_type": "execute_result"
    }
   ],
   "source": [
    "len(bm_mtrx)"
   ]
  },
  {
   "cell_type": "code",
   "execution_count": 0,
   "metadata": {
    "colab": {
     "base_uri": "https://localhost:8080/",
     "height": 35
    },
    "colab_type": "code",
    "id": "WFRduerYYr2O",
    "outputId": "988f36ba-e37a-4ffc-c1e2-4a7e0acc6c4f"
   },
   "outputs": [
    {
     "name": "stdout",
     "output_type": "stream",
     "text": [
      "Точность поиска =  0.924\n"
     ]
    }
   ],
   "source": [
    "success = []\n",
    "q_number = 0\n",
    "quers = queries[:1000]\n",
    "\n",
    "for q in quers:\n",
    "    bms = []\n",
    "    \n",
    "    for i in q.split():\n",
    "        for indx, word in enumerate(words):\n",
    "            if i == word:\n",
    "                bm = bm_mtrx[indx]\n",
    "                bms.append(bm)\n",
    "                \n",
    "    if len(bms) > 0:\n",
    "        q_bm = sum(np.array(bms))\n",
    "        for_range = list(zip(q_bm, docs))\n",
    "        sort_range = sorted(for_range, reverse=True)\n",
    "        \n",
    "        for indx, i in enumerate(sort_range):\n",
    "            if indx < 5:\n",
    "                if i[1][1] == '1':\n",
    "                    success.append(1)\n",
    "                    break\n",
    "                    \n",
    "    q_number += 1\n",
    "        \n",
    "accuracy = len(success) / q_number\n",
    "print('Точность поиска = ', accuracy)"
   ]
  },
  {
   "cell_type": "markdown",
   "metadata": {},
   "source": [
    "##### Итог: точность поиска с fasttext - 0.684; c BM25 - 0.924"
   ]
  }
 ],
 "metadata": {
  "colab": {
   "collapsed_sections": [],
   "name": "Semantics.ipynb",
   "provenance": []
  },
  "kernelspec": {
   "display_name": "Python 3",
   "language": "python",
   "name": "python3"
  },
  "language_info": {
   "codemirror_mode": {
    "name": "ipython",
    "version": 3
   },
   "file_extension": ".py",
   "mimetype": "text/x-python",
   "name": "python",
   "nbconvert_exporter": "python",
   "pygments_lexer": "ipython3",
   "version": "3.7.2"
  }
 },
 "nbformat": 4,
 "nbformat_minor": 1
}
